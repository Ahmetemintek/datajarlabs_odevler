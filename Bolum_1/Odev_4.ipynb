{
 "cells": [
  {
   "cell_type": "code",
   "execution_count": null,
   "metadata": {},
   "outputs": [],
   "source": [
    "#1. kısım"
   ]
  },
  {
   "cell_type": "code",
   "execution_count": 33,
   "metadata": {},
   "outputs": [
    {
     "name": "stdout",
     "output_type": "stream",
     "text": [
      "Şiirde toplam 20 dize vardır. \n",
      "['yani,', 'yani', 'yani', 'yahut', 'yaşamak', 'yetmişinde', 'yaşamak']\n"
     ]
    }
   ],
   "source": [
    "with open(\"yasamaya_dair.txt\",\"r\") as s:\n",
    "    line = [s.readline()]\n",
    "    rest_of_line = s.readlines()\n",
    "    all_line = s.read()\n",
    "    a=len(rest_of_line)+1\n",
    "print(\"Şiirde toplam {} dize vardır. \".format(a)) \n",
    "\n",
    "\n",
    "   \n",
    "ilk_kelimeler= [] \n",
    "for line in rest_of_line:\n",
    "    a= line.split()[0]\n",
    "    if a[0]==\"y\":\n",
    "        \n",
    "        ilk_kelimeler.append(a)\n",
    "print(ilk_kelimeler)\n",
    "\n",
    "\n",
    "\n",
    "\n",
    "        \n",
    "\n",
    "    \n",
    "\n",
    "    "
   ]
  },
  {
   "cell_type": "code",
   "execution_count": 54,
   "metadata": {},
   "outputs": [],
   "source": [
    "#2. Kısım"
   ]
  },
  {
   "cell_type": "code",
   "execution_count": 21,
   "metadata": {},
   "outputs": [
    {
     "data": {
      "text/plain": [
       "'Girdiğiniz sayı asaldır.'"
      ]
     },
     "execution_count": 21,
     "metadata": {},
     "output_type": "execute_result"
    }
   ],
   "source": [
    "def asal_mi(x):\n",
    "    result = \" \"\n",
    "    adet=0\n",
    "    for i in range(2,x+1):\n",
    "            if (x%i==0):\n",
    "                adet+=1\n",
    "    if (adet==1):\n",
    "            result = \"Girdiğiniz sayı asaldır.\"\n",
    "    else:\n",
    "            result = \"Girdiğiniz sayı asal değildir.\"\n",
    "    return result\n",
    "asal_mi(13)\n",
    "\n",
    "    \n",
    "        \n",
    "        "
   ]
  },
  {
   "cell_type": "code",
   "execution_count": 70,
   "metadata": {},
   "outputs": [],
   "source": [
    "#3. Kısım"
   ]
  },
  {
   "cell_type": "code",
   "execution_count": 35,
   "metadata": {},
   "outputs": [
    {
     "name": "stdout",
     "output_type": "stream",
     "text": [
      "[1, 2, 4, 5, 6, 7, 9]\n"
     ]
    }
   ],
   "source": [
    "liste = [1,1,2,2,2,4,4,5,6,6,7,7,7,9]\n",
    "\n",
    "def düzenle(list):\n",
    "    \n",
    "    \n",
    "    liste_2 = []\n",
    "    \n",
    "    for i in list:\n",
    "        if i not in liste_2:\n",
    "            liste_2.append(i)\n",
    "    return liste_2\n",
    "print(düzenle(liste))\n",
    "\n",
    "        \n",
    "                    \n",
    "                    \n",
    "            \n",
    "            \n",
    "                \n",
    "                \n",
    "                \n",
    "            \n",
    "                \n",
    "        "
   ]
  },
  {
   "cell_type": "code",
   "execution_count": 71,
   "metadata": {},
   "outputs": [],
   "source": [
    "#4. Kısım"
   ]
  },
  {
   "cell_type": "code",
   "execution_count": 9,
   "metadata": {},
   "outputs": [
    {
     "name": "stdout",
     "output_type": "stream",
     "text": [
      "Doğum yılınızı giriniz.1997\n",
      "Yaşınız:  22\n"
     ]
    }
   ],
   "source": [
    "import datetime\n",
    "an = datetime.datetime.now()\n",
    "an = int(an.year)\n",
    "\n",
    "\n",
    "def yas(y):\n",
    "    if (y<0):\n",
    "        print(\"Geçersiz yıl girdiniz.\")\n",
    "    elif (y>an):\n",
    "        print(\"Geçersiz yıl girdiniz.\")\n",
    "    else:\n",
    "        t=an-y\n",
    "        \n",
    "        return t\n",
    "print(\"Yaşınız: \",yas(y = int(input(\"Doğum yılınızı giriniz.\"))))\n",
    "\n",
    "\n",
    "        \n",
    "        \n",
    "    \n",
    "            \n"
   ]
  },
  {
   "cell_type": "code",
   "execution_count": null,
   "metadata": {},
   "outputs": [],
   "source": []
  }
 ],
 "metadata": {
  "kernelspec": {
   "display_name": "Python 3",
   "language": "python",
   "name": "python3"
  },
  "language_info": {
   "codemirror_mode": {
    "name": "ipython",
    "version": 3
   },
   "file_extension": ".py",
   "mimetype": "text/x-python",
   "name": "python",
   "nbconvert_exporter": "python",
   "pygments_lexer": "ipython3",
   "version": "3.7.4"
  }
 },
 "nbformat": 4,
 "nbformat_minor": 2
}
