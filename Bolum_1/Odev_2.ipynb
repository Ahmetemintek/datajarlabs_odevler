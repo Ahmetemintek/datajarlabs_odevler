{
 "cells": [
  {
   "cell_type": "code",
   "execution_count": null,
   "metadata": {},
   "outputs": [],
   "source": [
    "#1. kısım:"
   ]
  },
  {
   "cell_type": "code",
   "execution_count": 39,
   "metadata": {},
   "outputs": [
    {
     "name": "stdout",
     "output_type": "stream",
     "text": [
      "{'1': 'pazatesi', '2': 'salı', '3': 'çarşamba', '4': 'perşembe', '5': 'cuma', '6': 'cumartesi', '7': 'pazar'}\n",
      "silmek istediğiniz birinci günü seçiniz: 1\n",
      "silmek istediğiniz ikinci günü seçiniz: 2\n",
      "Geriye kalan günler:  ['çarşamba', 'perşembe', 'cuma', 'cumartesi', 'pazar']\n"
     ]
    }
   ],
   "source": [
    "gunler = {\n",
    "    \"1\": \"pazatesi\",\n",
    "    \"2\": \"salı\",\n",
    "    \"3\": \"çarşamba\",\n",
    "    \"4\": \"perşembe\",\n",
    "    \"5\": \"cuma\",\n",
    "    \"6\": \"cumartesi\",\n",
    "    \"7\": \"pazar\"\n",
    "}\n",
    "print(gunler)\n",
    "secim1 = input(\"silmek istediğiniz birinci günü seçiniz: \")\n",
    "del gunler[secim1]\n",
    "secim2 = input(\"silmek istediğiniz ikinci günü seçiniz: \")\n",
    "del gunler[secim2]\n",
    "print(\"Geriye kalan günler: \",list(gunler.values()))\n"
   ]
  },
  {
   "cell_type": "code",
   "execution_count": 21,
   "metadata": {},
   "outputs": [],
   "source": [
    "#2. kısım:"
   ]
  },
  {
   "cell_type": "code",
   "execution_count": 24,
   "metadata": {},
   "outputs": [
    {
     "name": "stdout",
     "output_type": "stream",
     "text": [
      "[{'ocak: ': 31, 'şubat: ': 28, 'mart: ': 31, 'nisan: ': 30, 'mayıs: ': 31, 'haziran: ': 30, 'temmuz: ': 31, 'ağustoz: ': 31, 'eylül: ': 30, 'ekim: ': 31, 'kasım: ': 30, 'aralık: ': 31}]\n"
     ]
    }
   ],
   "source": [
    "sozluk = {\n",
    "    \"ocak: \": 31,\n",
    "    \"şubat: \": 28,\n",
    "    \"mart: \": 31,\n",
    "    \"nisan: \": 30,\n",
    "    \"mayıs: \": 31,\n",
    "    \"haziran: \": 30,\n",
    "    \"temmuz: \": 31,\n",
    "    \"ağustoz: \": 31,\n",
    "    \"eylül: \": 30,\n",
    "    \"ekim: \": 31,\n",
    "    \"kasım: \": 30,\n",
    "    \"aralık: \": 31,\n",
    "}\n",
    "ayin_gunleri = [sozluk]\n",
    "print(ayin_gunleri)"
   ]
  },
  {
   "cell_type": "code",
   "execution_count": 15,
   "metadata": {},
   "outputs": [],
   "source": [
    "#3. kısım: "
   ]
  },
  {
   "cell_type": "code",
   "execution_count": 20,
   "metadata": {},
   "outputs": [
    {
     "name": "stdout",
     "output_type": "stream",
     "text": [
      "['ocak', ': ', 31, 'şubat', ': ', 28, 'mart', ': ', 31, 'nisan', ': ', 30, 'mayıs', ': ', 31, 'haziran', ': ', 30, 'temmuz', ': ', 31, 'ağustos', ': ', 31, 'eylül', ': ', 30, 'ekim', ': ', 31, 'kasım', ': ', 30, 'aralık', ': ', 31]\n"
     ]
    }
   ],
   "source": [
    "aylar = [\"ocak\",\"şubat\",\"mart\",\"nisan\",\"mayıs\",\"haziran\",\"temmuz\",\"ağustos\",\"eylül\",\"ekim\",\"kasım\",\"aralık\"]\n",
    "gunler = [31,28,31,30,31,30,31,31,30,31,30,31]\n",
    "birlikte = [aylar[0],\": \",gunler[0],aylar[1],\": \",gunler[1],aylar[2],\": \",gunler[2],aylar[3],\": \",gunler[3],aylar[4],\": \",gunler[4],aylar[5],\": \",gunler[5],aylar[6],\": \",gunler[6],aylar[7],\": \",gunler[7],aylar[8],\": \",gunler[8],aylar[9],\": \",gunler[9],aylar[10],\": \",gunler[10],aylar[11],\": \",gunler[11],]\n",
    "print(birlikte)"
   ]
  },
  {
   "cell_type": "code",
   "execution_count": 25,
   "metadata": {},
   "outputs": [],
   "source": [
    "#4. kısım:"
   ]
  },
  {
   "cell_type": "code",
   "execution_count": 27,
   "metadata": {},
   "outputs": [],
   "source": [
    "ilkbahar = [\"mart: \",gunler[2], \"nisan: \",gunler[3], \"mayıs: \",gunler[4]]\n",
    "yaz = [\"haziran: \",gunler[5],\"temmuz: \",gunler[6],\"ağustos:\",gunler[7]]\n",
    "sonbahar = [\"eylül: \",gunler[8],\"ekim: \",gunler[9],\"kasım: \",gunler[10]]\n",
    "kıs = [\"aralık: \",gunler[11],\"ocak: \",gunler[0],\"şubat: \",gunler[1]]\n"
   ]
  },
  {
   "cell_type": "code",
   "execution_count": 28,
   "metadata": {},
   "outputs": [],
   "source": [
    "#5. kısım: "
   ]
  },
  {
   "cell_type": "code",
   "execution_count": 33,
   "metadata": {},
   "outputs": [
    {
     "name": "stdout",
     "output_type": "stream",
     "text": [
      "Yaz ayındaki günlerin toplamı:  92\n"
     ]
    }
   ],
   "source": [
    "print(\"Yaz ayındaki günlerin toplamı: \",yaz[1]+yaz[3]+yaz[5])"
   ]
  },
  {
   "cell_type": "code",
   "execution_count": null,
   "metadata": {},
   "outputs": [],
   "source": []
  }
 ],
 "metadata": {
  "kernelspec": {
   "display_name": "Python 3",
   "language": "python",
   "name": "python3"
  },
  "language_info": {
   "codemirror_mode": {
    "name": "ipython",
    "version": 3
   },
   "file_extension": ".py",
   "mimetype": "text/x-python",
   "name": "python",
   "nbconvert_exporter": "python",
   "pygments_lexer": "ipython3",
   "version": "3.7.4"
  }
 },
 "nbformat": 4,
 "nbformat_minor": 2
}
