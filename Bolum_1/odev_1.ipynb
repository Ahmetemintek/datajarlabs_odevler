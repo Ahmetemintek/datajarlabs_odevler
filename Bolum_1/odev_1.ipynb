{
 "cells": [
  {
   "cell_type": "code",
   "execution_count": 1,
   "metadata": {},
   "outputs": [],
   "source": [
    "   #1. ödev:"
   ]
  },
  {
   "cell_type": "code",
   "execution_count": 31,
   "metadata": {},
   "outputs": [
    {
     "name": "stdout",
     "output_type": "stream",
     "text": [
      "1. gün sonunda paranız:  1120.0\n",
      "2. gün sonunda paranız:  1254.4\n",
      "3. gün sonunda paranız:  1404.928\n",
      "4. gün sonunda paranız:  1573.5193600000002\n",
      "5. gün sonunda paranız:  1762.3416832000003\n",
      "6. gün sonunda paranız:  1973.8226851840004\n",
      "7. gün sonunda paranız:  2210.6814074060803\n"
     ]
    }
   ],
   "source": [
    "x=1000\n",
    "x+=x*12/100\n",
    "print(\"1. gün sonunda paranız: \", x)\n",
    "x+=x*12/100\n",
    "print(\"2. gün sonunda paranız: \",x )\n",
    "x+=x*12/100\n",
    "print(\"3. gün sonunda paranız: \",x)\n",
    "x+=x*12/100\n",
    "print(\"4. gün sonunda paranız: \",x)\n",
    "x+=x*12/100\n",
    "print(\"5. gün sonunda paranız: \",x)\n",
    "x+=x*12/100\n",
    "print(\"6. gün sonunda paranız: \",x)\n",
    "x+=x*12/100\n",
    "print(\"7. gün sonunda paranız: \",x)\n"
   ]
  },
  {
   "cell_type": "code",
   "execution_count": null,
   "metadata": {},
   "outputs": [],
   "source": [
    "#çözümü ilk olarak aşağıdaki gibi if kullanarak yapmaya çalıltım ama hata aldım. Sorunu da anlayamadım. "
   ]
  },
  {
   "cell_type": "code",
   "execution_count": 32,
   "metadata": {},
   "outputs": [
    {
     "ename": "IndentationError",
     "evalue": "unexpected indent (<ipython-input-32-3bc54106e60d>, line 3)",
     "output_type": "error",
     "traceback": [
      "\u001b[1;36m  File \u001b[1;32m\"<ipython-input-32-3bc54106e60d>\"\u001b[1;36m, line \u001b[1;32m3\u001b[0m\n\u001b[1;33m    if a<8:\u001b[0m\n\u001b[1;37m    ^\u001b[0m\n\u001b[1;31mIndentationError\u001b[0m\u001b[1;31m:\u001b[0m unexpected indent\n"
     ]
    }
   ],
   "source": [
    "x=1000\n",
    "a=1\n",
    "     if a<8: \n",
    "        x+=x*12/100\n",
    "        print(\"{} gün paranız: {}\".format(a,x))\n",
    "        a+=1\n",
    "        else :\n",
    "            print(\"{} gün sonunda toplam paranız: {}\".format(a,x))\n",
    "        "
   ]
  },
  {
   "cell_type": "code",
   "execution_count": 34,
   "metadata": {},
   "outputs": [],
   "source": [
    "#2. ödev:"
   ]
  },
  {
   "cell_type": "code",
   "execution_count": 35,
   "metadata": {},
   "outputs": [
    {
     "name": "stdout",
     "output_type": "stream",
     "text": [
      "Hafta başında  1000  dolarlık bitcoin aldığımızda günde ortalama % 12  kazançla, bir hafta sonunda  1210.68 dolar kazanırdık. \n"
     ]
    }
   ],
   "source": [
    "a=1000\n",
    "b=12\n",
    "c=1210.68\n",
    "print(\"Hafta başında \",a,\" dolarlık bitcoin aldığımızda günde ortalama %\",b,\" kazançla, bir hafta sonunda \",c,\"dolar kazanırdık. \")"
   ]
  },
  {
   "cell_type": "code",
   "execution_count": 36,
   "metadata": {},
   "outputs": [],
   "source": [
    "#3. ödev:"
   ]
  },
  {
   "cell_type": "code",
   "execution_count": 42,
   "metadata": {},
   "outputs": [
    {
     "name": "stdout",
     "output_type": "stream",
     "text": [
      "dosya adını giriniz: \n",
      "Nonepython\n",
      "Dosyanızın yeni adı:  python.py\n"
     ]
    }
   ],
   "source": [
    "a= input(print(\"dosya adını giriniz: \"))\n",
    "print(\"Dosyanızın yeni adı: \",str(a)+\".py\")"
   ]
  },
  {
   "cell_type": "code",
   "execution_count": null,
   "metadata": {},
   "outputs": [],
   "source": []
  }
 ],
 "metadata": {
  "kernelspec": {
   "display_name": "Python 3",
   "language": "python",
   "name": "python3"
  },
  "language_info": {
   "codemirror_mode": {
    "name": "ipython",
    "version": 3
   },
   "file_extension": ".py",
   "mimetype": "text/x-python",
   "name": "python",
   "nbconvert_exporter": "python",
   "pygments_lexer": "ipython3",
   "version": "3.7.4"
  }
 },
 "nbformat": 4,
 "nbformat_minor": 2
}
