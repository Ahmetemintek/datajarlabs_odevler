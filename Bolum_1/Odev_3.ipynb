{
 "cells": [
  {
   "cell_type": "code",
   "execution_count": null,
   "metadata": {},
   "outputs": [],
   "source": [
    "#1. kısım:"
   ]
  },
  {
   "cell_type": "code",
   "execution_count": 54,
   "metadata": {},
   "outputs": [
    {
     "name": "stdout",
     "output_type": "stream",
     "text": [
      "Bir sıcaklık değeri giriniz: 44\n",
      "Dönüştürmek istediğiniz sıcaklık birimini seçiniz ( f/c) c\n",
      "Girdiğiniz santigrat değeri 111.2 fahrenheita eşittir. \n"
     ]
    }
   ],
   "source": [
    "sicaklik = input(\"Bir sıcaklık değeri giriniz: \")\n",
    "birim = input(\"Dönüştürmek istediğiniz sıcaklık birimini seçiniz ( f/c) \")\n",
    "cr =0\n",
    "fh =0\n",
    "if  birim== \"f\":\n",
    "    cr += (5/9)*(int(sicaklik)-32)\n",
    "    print(\"Girdiğiniz fahrenheit değeri {} santigrat dereceye eşittir. \".format(cr))\n",
    "elif birim== \"c\":\n",
    "    fh = int(sicaklik)/(5/9)+32\n",
    "    print(\"Girdiğiniz santigrat değeri {} fahrenheita eşittir. \".format(fh))\n",
    "else:\n",
    "    while birim != \"f\" or \"c\":\n",
    "        print(\"Hatalı giriş yaptınız. \")\n",
    "        birim = input(\"Dönüştürmek istediğiniz sıcaklık birimini seçiniz (f/c) \")"
   ]
  },
  {
   "cell_type": "code",
   "execution_count": null,
   "metadata": {},
   "outputs": [],
   "source": [
    "#2. kısım:"
   ]
  },
  {
   "cell_type": "code",
   "execution_count": 61,
   "metadata": {},
   "outputs": [
    {
     "name": "stdout",
     "output_type": "stream",
     "text": [
      "Bir kelime giriniz: ahmet\n",
      "temha"
     ]
    }
   ],
   "source": [
    "kelime = input(\"Bir kelime giriniz: \")\n",
    "\n",
    "a = len(kelime)\n",
    "\n",
    "for x in range(a-1,-1,-1):\n",
    "    print(kelime[x], end =\"\")\n",
    "    \n",
    "    \n",
    "\n"
   ]
  },
  {
   "cell_type": "code",
   "execution_count": 11,
   "metadata": {},
   "outputs": [],
   "source": [
    "#3. liste"
   ]
  },
  {
   "cell_type": "code",
   "execution_count": 67,
   "metadata": {},
   "outputs": [
    {
     "name": "stdout",
     "output_type": "stream",
     "text": [
      "[1, 1, 2, 3, 5, 8, 13, 21, 34]\n"
     ]
    }
   ],
   "source": [
    "\n",
    "liste = [1,1]\n",
    "yeni_sayi=0\n",
    "while liste[-1]+liste[-2]<50:\n",
    "    \n",
    "    yeni_sayi = liste[-1]+liste[-2]\n",
    "    liste.append(yeni_sayi)\n",
    "print(liste)    \n",
    "           \n",
    "    \n",
    "       \n",
    "        \n",
    "    "
   ]
  },
  {
   "cell_type": "code",
   "execution_count": 29,
   "metadata": {},
   "outputs": [],
   "source": [
    "#4. kısım"
   ]
  },
  {
   "cell_type": "code",
   "execution_count": 71,
   "metadata": {},
   "outputs": [
    {
     "name": "stdout",
     "output_type": "stream",
     "text": [
      "Bir sayı giriniz: 7\n",
      "7x1 = 7\n",
      "7x2 = 14\n",
      "7x3 = 21\n",
      "7x4 = 28\n",
      "7x5 = 35\n",
      "7x6 = 42\n",
      "7x7 = 49\n",
      "7x8 = 56\n",
      "7x9 = 63\n",
      "7x10 = 70\n"
     ]
    }
   ],
   "source": [
    "sayi = input(\"Bir sayı giriniz: \")\n",
    "sayi= int(sayi)\n",
    "\n",
    "\n",
    "for i in range(1,11):\n",
    "     print(\"{}x{} = {}\".format(sayi,i,sayi*i))\n",
    "\n",
    "    \n",
    "    "
   ]
  },
  {
   "cell_type": "code",
   "execution_count": 25,
   "metadata": {},
   "outputs": [],
   "source": [
    "#5. kısım"
   ]
  },
  {
   "cell_type": "code",
   "execution_count": 27,
   "metadata": {},
   "outputs": [
    {
     "name": "stdout",
     "output_type": "stream",
     "text": [
      "[1, 4, 27, 16, 125, 36, 343, 64, 729, 100, 1331, 144, 2197, 196, 3375, 256, 4913, 324, 6859, 400]\n"
     ]
    }
   ],
   "source": [
    "liste = [x**2 if x%2==0 else x**3 for x in range(1,21)]\n",
    "print(liste)\n"
   ]
  },
  {
   "cell_type": "code",
   "execution_count": null,
   "metadata": {},
   "outputs": [],
   "source": []
  }
 ],
 "metadata": {
  "kernelspec": {
   "display_name": "Python 3",
   "language": "python",
   "name": "python3"
  },
  "language_info": {
   "codemirror_mode": {
    "name": "ipython",
    "version": 3
   },
   "file_extension": ".py",
   "mimetype": "text/x-python",
   "name": "python",
   "nbconvert_exporter": "python",
   "pygments_lexer": "ipython3",
   "version": "3.7.4"
  }
 },
 "nbformat": 4,
 "nbformat_minor": 2
}
